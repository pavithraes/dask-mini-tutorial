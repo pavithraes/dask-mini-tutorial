{
 "cells": [
  {
   "cell_type": "markdown",
   "id": "fa397203",
   "metadata": {},
   "source": [
    "<img src=\"https://raw.githubusercontent.com/dask/dask/main/docs/source/images/dask_horizontal_no_pad.svg\"\n",
    "     width=\"30%\"\n",
    "     alt=\"Dask logo\\\" />\n",
    "     \n",
    "\n",
    "---"
   ]
  },
  {
   "cell_type": "markdown",
   "id": "c70d4db3",
   "metadata": {},
   "source": [
    "<img src=\"https://raw.githubusercontent.com/dask/dask/main/docs/source/images/dask-overview.svg\" \n",
    "     width=\"70%\"\n",
    "     alt=\"Dask overview\\\" />"
   ]
  },
  {
   "cell_type": "markdown",
   "id": "3a8359e2",
   "metadata": {},
   "source": [
    "### Dask jargon: Client, Scheduler and Workers \n",
    "\n",
    "- **Client**: The user-facing entry point for cluster users. In other words, the client lives where your python code lives, and it communicates to the scheduler, passing along the tasks to be executed.\n",
    "- **Scheduler**: The task manager, it sends the tasks to the workers.\n",
    "- **Workers**: The ones that compute the tasks.\n",
    "\n",
    "Note: The Scheduler and the Workers are on the same network, they could live in your laptop or on a separate cluster.\n",
    "\n",
    "<img src=\"https://raw.githubusercontent.com/coiled/pydata-global-dask/master/images/dask-cluster.svg\"\n",
    "     width=\"50%\"\n",
    "     alt=\"Dask cluster\\\">"
   ]
  },
  {
   "cell_type": "markdown",
   "id": "d78d7794",
   "metadata": {
    "tags": []
   },
   "source": [
    "## When to use Dask?\n",
    "\n",
    "Before trying to use Dask, there are some questions to determine if Dask might be suitable for you. \n",
    "\n",
    "- Does your data fit in memory? \n",
    "    - Yes: Use pandas or numpy.  \n",
    "    - No : Dask might be able to help. \n",
    "- Do your computations take for ever?\n",
    "    - Yes: Dask might be able to help. \n",
    "    - No : Awesome.\n",
    "- Do you have embarrassingly parallelizable code?\n",
    "    - Yes: Dask might be able to help.\n",
    "    - No?: If you are not sure here are some [examples](https://examples.dask.org/applications/embarrassingly-parallel.html) \n",
    "    - No: I'm sorry, although Dask might have some hope for you.\n",
    "\n",
    "**Disclaimers:**\n",
    "\n",
    "1. When we say \"Dask might be able to help\" it is because you should try first to accelerate your code with NumPy and or Numba, checking types used on your DataFrames, and then maybe consider Dask. Now even when using Dask, we can't guarantee that things will be faster, it depends on what is the code behind.  \n",
    "\n",
    "2. Even when you have large datasets, at some point you want to double check if you have reduced things to a manageable level where going back to pandas or NumPy might be the best call.\n",
    "\n",
    "**Best practices:**\n",
    "\n",
    "The learning curve to use Dask can be a bit intimidating, that's why we want to point you out to some best practices links that will make the process smoother. We will go over some of these topics but we want to leave here these links for future reference\n",
    "\n",
    "- Are you working with arrays? Check this [array best practices](https://docs.dask.org/en/latest/array-best-practices.html)\n",
    "- Dealing with DataFrames? Check this [DataFrames best practices](https://docs.dask.org/en/latest/dataframe-best-practices.html)\n",
    "- Are you trying to accelerate your code using `delayed`? Check this [delayed best practices](https://docs.dask.org/en/latest/delayed-best-practices.html)\n",
    "- For overall good practices check [Dask best practices](https://docs.dask.org/en/latest/best-practices.html)"
   ]
  },
  {
   "cell_type": "markdown",
   "id": "4ed1f374",
   "metadata": {},
   "source": [
    "_For the next few noteboks, we took inspiration from: https://github.com/coiled/pydata-global-dask/_\n"
   ]
  },
  {
   "cell_type": "code",
   "execution_count": null,
   "id": "bf387943-bc24-42a7-b69a-48a4cb25ad96",
   "metadata": {},
   "outputs": [],
   "source": []
  }
 ],
 "metadata": {
  "kernelspec": {
   "display_name": "Python 3 (ipykernel)",
   "language": "python",
   "name": "python3"
  },
  "language_info": {
   "codemirror_mode": {
    "name": "ipython",
    "version": 3
   },
   "file_extension": ".py",
   "mimetype": "text/x-python",
   "name": "python",
   "nbconvert_exporter": "python",
   "pygments_lexer": "ipython3",
   "version": "3.9.7"
  }
 },
 "nbformat": 4,
 "nbformat_minor": 5
}
